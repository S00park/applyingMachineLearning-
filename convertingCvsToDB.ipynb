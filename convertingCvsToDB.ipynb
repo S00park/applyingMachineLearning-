{
 "cells": [
  {
   "cell_type": "code",
   "execution_count": 44,
   "metadata": {},
   "outputs": [],
   "source": [
    "import json,csv,sys,os,psycopg2\n",
    "import os.path \n",
    "\n",
    "cwd = os.getcwd()\n",
    "DB_Name=\"rxarjeym\"\n",
    "DB_USER=\"rxarjeym\"\n",
    "DB_PASS=\"y6xuVccjXSybPCO0GRv5MTNiAsFDCOe6\"\n",
    "DB_HOST=\"ruby.db.elephantsql.com\"\n",
    "DB_PORT=\"5432\"\n",
    "\n",
    "#List of all users \n",
    "\n",
    "uids = ['u00','u01','u02','u03','u04','u05','u07','u08','u09','u10',\n",
    "        'u12','u13','u14','u15','u16','u17','u18','u19','u20','u22',\n",
    "        'u23','u24','u25','u27','u30','u31','u32','u33','u34','u35',\n",
    "        'u36','u39','u41','u42','u43','u44','u45','u46','u47','u49',\n",
    "        'u50','u51','u52','u53','u54','u56','u57','u58','u59']"
   ]
  },
  {
   "cell_type": "code",
   "execution_count": 85,
   "metadata": {},
   "outputs": [],
   "source": [
    "\"\"\"SQL insert statements\"\"\"\n",
    "\n",
    "createDeadlineDB=\"\"\"CREATE TABLE deadlines(uid VARCHAR(3),  \n",
    "                      date INT);\"\"\"\n",
    "\n",
    "insertDeadline=\"\"\"INSERT INTO deadlines (uid,date)\"\"\"\n",
    "\n",
    "\n",
    "createSleepDB=\"\"\"CREATE TABLE sleep(uid VARCHAR(3), \"resp_time\" INT, \"hour\" INT)\"\"\"\n",
    "\n",
    "\n",
    "insertSleep=\"\"\"INSERT INTO sleep (uid, resp_time, hour)\"\"\"\n",
    "\n",
    "\n",
    "createStressDB=\"\"\"CREATE TABLE stress(uid VARCHAR(3), \"resp_time\" INT, \"level\" INT)\"\"\"\n",
    "\n",
    "\n",
    "insertStress=\"\"\"INSERT INTO stress(uid, resp_time, level)\"\"\"\n",
    "\n",
    "\n",
    "\n",
    "def deadlineDB(csvfile,cursor):\n",
    "    with open(csvfile,'rb') as inCsv:\n",
    "            parsed = csv.DictReader(inCsv , delimiter = ',' , quotechar='\"')\n",
    "            for record in parsed:\n",
    "                data=[record['deadlines']]\n",
    "                cursor.execute(insert,data)\n",
    "                break;\n",
    "                \n",
    "def dBConvert(argv):\n",
    "    try:\n",
    "        conn=psycopg2.connect(database='rxarjeym', user='rxarjeym', \n",
    "                              host=\"ruby.db.elephantsql.com\", port=\"5432\", \n",
    "                              password=\"y6xuVccjXSybPCO0GRv5MTNiAsFDCOe6\")\n",
    "        cursor=conn.cursor()\n",
    "        print(\"connection worked!\")\n",
    "    except psycopg2.DatabaseError as error:\n",
    "        print(\"[!]\")\n",
    "        exit()\n",
    "    \n",
    "    if sys.argv[1]==\"deadlines\":\n",
    "        cursor.execute(createDeadlineDB)\n",
    "        directory = os.path.dirname(os.path.abspath(-f)) + 'dataset/education/deadlines'\n",
    "        tableName = 'deadlines'\n",
    "        deadlineDB(file,cursor)   \n",
    "        print (\"deadlines done!\")\n",
    "    \n",
    "    \n",
    "    elif sys.argv[1]==\"sleep\":\n",
    "        cursor.execute(createSleepDB)\n",
    "    \n",
    "    \n",
    "    else: \n",
    "        print(\"undefined parameter\")\n",
    "        \n",
    "    conn.commit()\n",
    "    conn.close() "
   ]
  },
  {
   "cell_type": "code",
   "execution_count": 86,
   "metadata": {},
   "outputs": [
    {
     "name": "stdout",
     "output_type": "stream",
     "text": [
      "connection worked!\n",
      "undefined parameter\n"
     ]
    }
   ],
   "source": [
    "#-----------------------------TESTING-------------------------------------\n",
    "if __name__ == '__main__':\n",
    "    dBConvert(\"deadlines\")"
   ]
  },
  {
   "cell_type": "code",
   "execution_count": 87,
   "metadata": {},
   "outputs": [
    {
     "name": "stdout",
     "output_type": "stream",
     "text": [
      "-f\n",
      "['/Users/sungyeon/opt/anaconda3/lib/python3.7/site-packages/ipykernel_launcher.py', '-f', '/Users/sungyeon/Library/Jupyter/runtime/kernel-2c487cb7-7e34-4202-8079-350b332d6c6b.json']\n"
     ]
    }
   ],
   "source": [
    "print(sys.argv[1])\n",
    "print(sys.argv)"
   ]
  },
  {
   "cell_type": "code",
   "execution_count": null,
   "metadata": {},
   "outputs": [],
   "source": [
    "\"\"\"JSON files into postsql\"\"\"\n",
    "\n",
    "create= \"\"\"CREATE TABLE {0} (hour FLOAT, rate INT, time_stamp INT) ;\"\"\"\n",
    "insert= \"\"\"INSERT INTO {0} (hour,rate,time_stamp) VALUES ({1},{2},{3});\"\"\"\n",
    "\n",
    "def JSONfileConvert():\n",
    "    path_to_file = input('Enter path to json file:')\n",
    "    with open(path_to_file, 'r') as data_file:\n",
    "        data = json.load(data_file)\n",
    "\n",
    "    collection_array = []\n",
    "    for item in data:\n",
    "        collection_array.append(json.dumps(item))\n",
    "\n",
    "    try:\n",
    "        conn = psycopg2.connect(database='rxarjeym', user='rxarjeym', \n",
    "                              host=\"ruby.db.elephantsql.com\", port=\"5432\", \n",
    "                              password=\"y6xuVccjXSybPCO0GRv5MTNiAsFDCOe6\")\n",
    "        print (\"opened  database successfully\")\n",
    "        cur = conn.cursor()\n",
    "\n",
    "        for element in collection_array:\n",
    "            cur.execute(create3)\n",
    "        print(\"successfully inserted records\")    \n",
    "\n",
    "\n",
    "    except psycopg2.Error as e:\n",
    "        raise\n",
    "\n",
    "    finally:\n",
    "        conn.commit()\n",
    "        conn.close()\n",
    "        print(\"connection is closed\")\n",
    "\n",
    "\n",
    "JSONfileConvert()\n"
   ]
  },
  {
   "cell_type": "code",
   "execution_count": null,
   "metadata": {},
   "outputs": [],
   "source": [
    "pwd"
   ]
  },
  {
   "cell_type": "code",
   "execution_count": 42,
   "metadata": {},
   "outputs": [],
   "source": [
    "#/Users/sungyeon/Scatter Plot/Untitled Folder/Sleep_u00.json\n",
    "\n",
    "#https://stackoverflow.com/questions/38274498/adding-multiple-json-objects-into-postgresql        \n"
   ]
  },
  {
   "cell_type": "code",
   "execution_count": null,
   "metadata": {},
   "outputs": [],
   "source": [
    "if __name__ == '__main__':\n",
    "    pass"
   ]
  }
 ],
 "metadata": {
  "kernelspec": {
   "display_name": "Python 3",
   "language": "python",
   "name": "python3"
  },
  "language_info": {
   "codemirror_mode": {
    "name": "ipython",
    "version": 3
   },
   "file_extension": ".py",
   "mimetype": "text/x-python",
   "name": "python",
   "nbconvert_exporter": "python",
   "pygments_lexer": "ipython3",
   "version": "3.7.6"
  }
 },
 "nbformat": 4,
 "nbformat_minor": 4
}
