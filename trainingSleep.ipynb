{
 "cells": [
  {
   "cell_type": "code",
   "execution_count": 2,
   "metadata": {},
   "outputs": [],
   "source": [
    "import os, json, math, psycopg2\n",
    "import datetime as dt\n",
    "from sortedcontainers import SortedDict\n",
    "from sklearn import preprocessing\n",
    "from geopy.distance import great_circle\n",
    "from scipy.spatial.distance import euclidean\n",
    "from sklearn.model_selection import train_test_split\n",
    "from scipy.stats import entropy\n",
    "from sklearn.neighbors import KNeighborsClassifier \n",
    "\n",
    "knn=KNeighborsClassifier(n_neighbors=1)"
   ]
  },
  {
   "cell_type": "code",
   "execution_count": 9,
   "metadata": {},
   "outputs": [],
   "source": [
    "\"\"\"training of sleep data based on audio levels, length of time phone is dark or locked\"\"\"\n",
    "\n",
    "#List of all users \n",
    "uids = ['u00','u01','u02','u03','u04','u05','u07','u08','u09','u10',\n",
    "        'u12','u13','u14','u15','u16','u17','u18','u19','u20','u22',\n",
    "        'u23','u24','u25','u27','u30','u31','u32','u33','u34','u35',\n",
    "        'u36','u39','u41','u42','u43','u44','u45','u46','u47','u49',\n",
    "        'u50','u51','u52','u53','u54','u56','u57','u58','u59']\n",
    "\n",
    "\"\"\"Helper function to convert unix time to readable dates\n",
    "Format e.g '1234567890'=> 2009 02 14 08 31 30\n",
    "\"\"\"\n",
    "def convertTimeUnix(timestamps):\n",
    "    for time in timestamps:\n",
    "        timestamp = datetime.datetime.fromtimestamp(timestamps)\n",
    "        readableTime=(timestamp.strftime('%Y %m %d %H %M %S'))\n",
    "    return readableTime"
   ]
  },
  {
   "cell_type": "code",
   "execution_count": 10,
   "metadata": {},
   "outputs": [],
   "source": [
    "\"\"\"@stavskal{\n",
    "    author       = {Stavrianos Skalidis},\n",
    "    title        = {{StudentLife-DataMining-ModelTraining:constructTrainHourly.py}},\n",
    "    month        = mar,\n",
    "    year         = 2016,\n",
    "    publisher    = {github},\n",
    "    url          = {https://github.com/stavskal/StudentLife-DataMining-ModelTraining}\n",
    "    }\"\"\"\n",
    "\n",
    "hour = 3600\n",
    "day = 86400\n",
    "halfday = 43200\n",
    "weekSec = 604000\n",
    "\n",
    "\n",
    "def epochCalc(timestamps):\n",
    "    splitTimes = convertTimeUnix(timestamps)\n",
    "    epochTimes = []\n",
    "    for i in range(0,len(splitTimes)):\n",
    "        hour=int(splitTimes[i,3])\n",
    "        if hour >10 and hour <=18:\n",
    "            epoch='day'\n",
    "        elif hour >0 and hour<=10:\n",
    "            epoch='night'\n",
    "        else:\n",
    "            epoch='evening'\n",
    "        epochTimes.append((epoch,splitTimes[i,6]))\n",
    "    return epochTimes"
   ]
  },
  {
   "cell_type": "code",
   "execution_count": null,
   "metadata": {},
   "outputs": [],
   "source": []
  },
  {
   "cell_type": "code",
   "execution_count": 4,
   "metadata": {},
   "outputs": [
    {
     "data": {
      "text/plain": [
       "'knn.fit (X-train,y_train) fit returns the knn object itself and shows \\na representation of our classifier which shows which parameters were used in creating the \\nmodel'"
      ]
     },
     "execution_count": 4,
     "metadata": {},
     "output_type": "execute_result"
    }
   ],
   "source": [
    "\"\"\"split data for accuracy testing\"\"\"\n",
    "\n",
    "def training(data,key,data2,key2):\n",
    "    x_train,x_train,y_train,\\\n",
    "    y_test=train_test_split(datat[key],data2[key2],random_state=0)\n",
    "\n",
    "\"\"\"knn.fit (X-train,y_train) fit returns the knn object itself and shows \n",
    "a representation of our classifier which shows which parameters were used in creating the \n",
    "model\"\"\""
   ]
  },
  {
   "cell_type": "code",
   "execution_count": 57,
   "metadata": {},
   "outputs": [
    {
     "data": {
      "text/plain": [
       "'testing accuracy\\n\\n\\ny_pred=knn.predict(X_test)\\nprint(\"Test set predictions:\\n {}\".format(y_pred))\\nprint(\"Test set score: {:.2f}\"\".format(knn.score(X_test, y_test)))'"
      ]
     },
     "execution_count": 57,
     "metadata": {},
     "output_type": "execute_result"
    }
   ],
   "source": [
    "\"\"\"testing accuracy\n",
    "\n",
    "\n",
    "y_pred=knn.predict(X_test)\n",
    "print(\"Test set predictions:\\n {}\".format(y_pred))\n",
    "print(\"Test set score: {:.2f}\"\".format(knn.score(X_test, y_test)))\"\"\""
   ]
  },
  {
   "cell_type": "code",
   "execution_count": 9,
   "metadata": {},
   "outputs": [],
   "source": [
    "# #------------TESTING-----------------------------\n",
    "# 75% of user's data were used for training\n",
    "# the rest 25% used for testing\n",
    "# After training and testing, the overall accuracy is displayed \n",
    "\n",
    "if __name__ == '__main__':\n",
    "    pass"
   ]
  },
  {
   "cell_type": "code",
   "execution_count": null,
   "metadata": {},
   "outputs": [],
   "source": []
  }
 ],
 "metadata": {
  "kernelspec": {
   "display_name": "Python 3",
   "language": "python",
   "name": "python3"
  },
  "language_info": {
   "codemirror_mode": {
    "name": "ipython",
    "version": 3
   },
   "file_extension": ".py",
   "mimetype": "text/x-python",
   "name": "python",
   "nbconvert_exporter": "python",
   "pygments_lexer": "ipython3",
   "version": "3.7.6"
  }
 },
 "nbformat": 4,
 "nbformat_minor": 4
}
